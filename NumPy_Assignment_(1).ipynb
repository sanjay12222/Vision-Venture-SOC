{
  "nbformat": 4,
  "nbformat_minor": 0,
  "metadata": {
    "colab": {
      "provenance": []
    },
    "kernelspec": {
      "name": "python3",
      "display_name": "Python 3"
    },
    "language_info": {
      "name": "python"
    }
  },
  "cells": [
    {
      "cell_type": "markdown",
      "source": [
        "# **Working with NumPy**\n",
        "In this assignment, you will be familiarized with the usage of the NumPy library and how to use vectorization to speed up computations in comparision to iterative approaches.\n",
        "\n",
        "You are to only write/modify the code in between consecutive `# < START >` and `# < END >` comments. DO NOT modify other parts of the notebook, your assignments will not be graded otherwise.\n",
        "```python\n",
        "\"Don't modify any code here\"\n",
        "\n",
        "# < START >\n",
        "\"YOUR CODE GOES HERE!\"\n",
        "# < END >\n",
        "\n",
        "\"Don't modify any code here\"\n",
        "```\n",
        "\n",
        "<!---Need to include clarification about arrays?-->\n",
        "\n",
        "**Start by running the below cell, to import the NumPy library.**"
      ],
      "metadata": {
        "id": "MbvsDuzLano5"
      }
    },
    {
      "cell_type": "code",
      "source": [
        "import numpy as np"
      ],
      "metadata": {
        "id": "GHqaQIZwaqrb"
      },
      "execution_count": 1,
      "outputs": []
    },
    {
      "cell_type": "markdown",
      "source": [
        "### **Initializating Arrays**\n",
        "NumPy offers multiple methods to create and populate arrays\n",
        "- Create a $2\\times3$ array identical to\n",
        "$\\begin{bmatrix}\n",
        "1 & 2 & 4\\\\\n",
        "7 & 13 & 21\\\\\n",
        "\\end{bmatrix}$, and assign it to a variable `arr`.  "
      ],
      "metadata": {
        "id": "7_q9CV0oqiQE"
      }
    },
    {
      "cell_type": "code",
      "source": [
        "\n",
        "# < START >\n",
        "arr = np.array([[1,2,4],[7,13,21]])\n",
        "# < END >\n",
        "\n",
        "print(arr)\n",
        "print(\"Shape:\", arr.shape)"
      ],
      "metadata": {
        "id": "DOSodBqMsPFx",
        "colab": {
          "base_uri": "https://localhost:8080/"
        },
        "outputId": "84a48b04-a62b-4657-81c0-df7ad33e9985"
      },
      "execution_count": 2,
      "outputs": [
        {
          "output_type": "stream",
          "name": "stdout",
          "text": [
            "[[ 1  2  4]\n",
            " [ 7 13 21]]\n",
            "Shape: (2, 3)\n"
          ]
        }
      ]
    },
    {
      "cell_type": "markdown",
      "source": [
        "You should be able to see that the `shape` property of an array lets you access its dimensions.  \n",
        "For us, this is a handy way to ensure that the dimensions of an array are what we expect, allowing us to easily debug programs."
      ],
      "metadata": {
        "id": "ow7eYNN0uqOc"
      }
    },
    {
      "cell_type": "markdown",
      "source": [
        "- Initialize a NumPy array `x` of dimensions $2\\times3$ with random values.  \n",
        "Do not use the values of the dimensions directly, instead use the variables provided as arguments.\n",
        "<details>\n",
        "  <summary>Hint</summary>\n",
        "  <a href=\"https://numpy.org/doc/stable/reference/random/generated/numpy.random.randn.html#numpy-random-randn\">np.random.randn()</a>\n",
        "</details>"
      ],
      "metadata": {
        "id": "3sRFnmJrWY0S"
      }
    },
    {
      "cell_type": "code",
      "source": [
        "n_rows = 2\n",
        "n_columns = 3\n",
        "\n",
        "# <START>\n",
        "x = np.random.randn(n_rows,n_columns)\n",
        "# <END>\n",
        "\n",
        "print(x)"
      ],
      "metadata": {
        "id": "VVrePkvxW2K9",
        "colab": {
          "base_uri": "https://localhost:8080/"
        },
        "outputId": "5c55f9a7-18bb-4d71-cce1-f2b309faa19e"
      },
      "execution_count": 3,
      "outputs": [
        {
          "output_type": "stream",
          "name": "stdout",
          "text": [
            "[[-0.02202053  0.38021353 -0.20761935]\n",
            " [-0.75021762 -1.81718332  0.43039582]]\n"
          ]
        }
      ]
    },
    {
      "cell_type": "markdown",
      "source": [
        "A few more basic methods to initialize arrays exist.\n",
        "Feel free to read up online to complete the code snippets."
      ],
      "metadata": {
        "id": "j7XlM8Bwchhm"
      }
    },
    {
      "cell_type": "code",
      "source": [
        "# < START >\n",
        "# Initialize an array ZERO_ARR of dimensions (4, 5, 2) whose every element is 0\n",
        "ZERO_ARR = np.zeros((4, 5, 2))\n",
        "# < END >\n",
        "\n",
        "print(ZERO_ARR)\n",
        "\n",
        "# < START >\n",
        "# Initialize an array ONE_ARR of dimensions (4, 5, 2) whose every element is 1\n",
        "ONE_ARR = np.ones((4, 5, 2))\n",
        "# < END >\n",
        "\n",
        "print(ONE_ARR)"
      ],
      "metadata": {
        "id": "hG59Eh_edKNy",
        "colab": {
          "base_uri": "https://localhost:8080/"
        },
        "outputId": "a45f8d1c-7e6b-42b7-9091-6862c1dbdc1e"
      },
      "execution_count": 4,
      "outputs": [
        {
          "output_type": "stream",
          "name": "stdout",
          "text": [
            "[[[0. 0.]\n",
            "  [0. 0.]\n",
            "  [0. 0.]\n",
            "  [0. 0.]\n",
            "  [0. 0.]]\n",
            "\n",
            " [[0. 0.]\n",
            "  [0. 0.]\n",
            "  [0. 0.]\n",
            "  [0. 0.]\n",
            "  [0. 0.]]\n",
            "\n",
            " [[0. 0.]\n",
            "  [0. 0.]\n",
            "  [0. 0.]\n",
            "  [0. 0.]\n",
            "  [0. 0.]]\n",
            "\n",
            " [[0. 0.]\n",
            "  [0. 0.]\n",
            "  [0. 0.]\n",
            "  [0. 0.]\n",
            "  [0. 0.]]]\n",
            "[[[1. 1.]\n",
            "  [1. 1.]\n",
            "  [1. 1.]\n",
            "  [1. 1.]\n",
            "  [1. 1.]]\n",
            "\n",
            " [[1. 1.]\n",
            "  [1. 1.]\n",
            "  [1. 1.]\n",
            "  [1. 1.]\n",
            "  [1. 1.]]\n",
            "\n",
            " [[1. 1.]\n",
            "  [1. 1.]\n",
            "  [1. 1.]\n",
            "  [1. 1.]\n",
            "  [1. 1.]]\n",
            "\n",
            " [[1. 1.]\n",
            "  [1. 1.]\n",
            "  [1. 1.]\n",
            "  [1. 1.]\n",
            "  [1. 1.]]]\n"
          ]
        }
      ]
    },
    {
      "cell_type": "markdown",
      "source": [
        "You can also transpose arrays (same as with matrices), but a more general and commonly used function is the `array.reshape()` function.\n",
        "\n",
        "$$\n",
        "\\begin{bmatrix}\n",
        "a & d\\\\\n",
        "b & e\\\\\n",
        "c & f\\\\\n",
        "\\end{bmatrix}\n",
        "\\xleftarrow{\\text{.T}}\n",
        "\\begin{bmatrix}\n",
        "a & b & c\\\\\n",
        "d & e & f\\\\\n",
        "\\end{bmatrix}\n",
        "\\xrightarrow{\\text{.reshape(3, 2)}}\n",
        "\\begin{bmatrix}\n",
        "a & b\\\\\n",
        "c & d\\\\\n",
        "e & f\\\\\n",
        "\\end{bmatrix}\n",
        "\\xrightarrow{\\text{.reshape(6,1)}}\n",
        "\\begin{bmatrix}\n",
        "a\\\\b\\\\c\\\\d\\\\e\\\\f\\\\\n",
        "\\end{bmatrix}\n",
        "$$\n",
        "`reshape` is commonly used to flatten data stored in multi-dimensional arrays (ex: a 2D array representing a B/W image)\n",
        "\n",
        "- Try it out yourself:"
      ],
      "metadata": {
        "id": "19eX-3suIKcF"
      }
    },
    {
      "cell_type": "code",
      "source": [
        "y = np.array([[1, 2, 3],\n",
        "              [4, 5, 6]])\n",
        "\n",
        "# < START >\n",
        "# Create a new array y_transpose that is the transpose of matrix y\n",
        "y_transpose = y.T\n",
        "# < END >\n",
        "\n",
        "\n",
        "\n",
        "# < START >\n",
        "# Create a new array y_flat that contains the same elements as y but has been flattened to a column array\n",
        "y_flat = y.reshape(-1, 1)\n",
        "\n",
        "# < END >\n",
        "\n",
        "print(y_flat)"
      ],
      "metadata": {
        "id": "72poNlj4H4dv",
        "colab": {
          "base_uri": "https://localhost:8080/"
        },
        "outputId": "bf93db24-7727-4411-a50e-91cb6c97b7d3"
      },
      "execution_count": 5,
      "outputs": [
        {
          "output_type": "stream",
          "name": "stdout",
          "text": [
            "[[1]\n",
            " [2]\n",
            " [3]\n",
            " [4]\n",
            " [5]\n",
            " [6]]\n"
          ]
        }
      ]
    },
    {
      "cell_type": "markdown",
      "source": [
        "- Create a `y` with dimensions $3\\times1$ (column matrix), with elements $4,7$ and $11$.  \n",
        "$$y = \\begin{bmatrix}\n",
        "4\\\\\n",
        "7\\\\\n",
        "11\n",
        "\\end{bmatrix}$$  "
      ],
      "metadata": {
        "id": "OmHhW0gtXn4C"
      }
    },
    {
      "cell_type": "code",
      "source": [
        "# <START>\n",
        "# Initialize the column matrix here\n",
        "y = np.array([[4], [7], [11]])\n",
        "# <END>\n",
        "\n",
        "assert y.shape == (3, 1)\n",
        "# The above line is an assert statement, which halts the program if the given condition evaluates to False.\n",
        "# Assert statements are frequently used in neural network programs to ensure our matrices are of the right dimensions.\n",
        "\n",
        "print(y)\n",
        "\n",
        "# <START>\n",
        "arr = np.array([[1, 2, 3],\n",
        "                [4, 5, 6]])\n",
        "# Multiply both the arrays here\n",
        "z = np.dot(arr, y)\n",
        "# <END>\n",
        "\n",
        "assert z.shape == (2, 1)\n",
        "\n",
        "print(z)"
      ],
      "metadata": {
        "id": "_OB_fi7zW57S",
        "colab": {
          "base_uri": "https://localhost:8080/"
        },
        "outputId": "8017e6fc-6c4f-442f-e17d-494f84a2fe52"
      },
      "execution_count": 6,
      "outputs": [
        {
          "output_type": "stream",
          "name": "stdout",
          "text": [
            "[[ 4]\n",
            " [ 7]\n",
            " [11]]\n",
            "[[ 51]\n",
            " [117]]\n"
          ]
        }
      ]
    },
    {
      "cell_type": "markdown",
      "source": [
        "### **Indexing & Slicing**\n",
        "Just like with normal arrays, you can access an element at the `(i,j)` position using `array[i][j]`.  \n",
        "However, NumPy allows you to do the same using `array[i, j]`, and this form is more efficient and simpler to use.\n",
        "<details>\n",
        "<summary><i>(Optional) Why is it more efficient?</i></summary>\n",
        "The former case is more inefficient as a new temporary array is created after the first index i, that is then indexed by j.\n",
        "</details>\n",
        "\n",
        "```python\n",
        "x = np.array([[1,3,5],[4,7,11],[5,10,20]])\n",
        "\n",
        "x[1][2] #11\n",
        "x[1,2]  #11 <-- Prefer this\n",
        "```"
      ],
      "metadata": {
        "id": "qQBkm2K9eMiu"
      }
    },
    {
      "cell_type": "markdown",
      "source": [
        "Slicing is another important feature of NumPy arrays. The syntax is the same as that of slicing in Python lists.\n",
        "  We pass the slice as\n",
        "\n",
        "```python\n",
        "  sliced_array = array[start:end:step]\n",
        "  # The second colon (:) is only needed\n",
        "  # if you want to use a step other than 1\n",
        "```\n",
        "By default, `start` is 0, `end` is the array length (in that dimension), and `step` is 1.\n",
        "Remember that `end` is not included in the slice.\n",
        "\n",
        "  Implement array slicing as instructed in the following examples\n",
        "\n"
      ],
      "metadata": {
        "id": "ptZtfq3dUE25"
      }
    },
    {
      "cell_type": "code",
      "source": [
        "x = np.array([4, 1, 5, 6, 11])\n",
        "\n",
        "# <START>\n",
        "# Create a new array y with the middle 3 elements of x\n",
        "y = x[1:4]\n",
        "# <END>\n",
        "\n",
        "print(y)\n",
        "\n",
        "z = np.array([1, 2, 3, 4, 5, 6, 7, 8, 9, 10])\n",
        "\n",
        "# <START>\n",
        "# Create a new array w with alternating elements of z\n",
        "w = z[::2]\n",
        "# <END>\n",
        "\n",
        "print(w)"
      ],
      "metadata": {
        "id": "Rb3_CEkYVHRV",
        "colab": {
          "base_uri": "https://localhost:8080/"
        },
        "outputId": "2cc7dcf3-a7b7-4b1a-9fa9-633ce641acb9"
      },
      "execution_count": 7,
      "outputs": [
        {
          "output_type": "stream",
          "name": "stdout",
          "text": [
            "[1 5 6]\n",
            "[1 3 5 7 9]\n"
          ]
        }
      ]
    },
    {
      "cell_type": "markdown",
      "source": [
        "A combination of indexing and slicing can be used to access rows, columns and sub-arrays of 2D arrays.\n",
        "\n",
        "```python\n",
        "arr = np.array([\n",
        "          [1, 2, 3],\n",
        "          [4, 5, 6],\n",
        "          [7, 8, 9]])\n",
        "\n",
        "print(arr[0])       #[1 2 3]\n",
        "print(arr[:,2])     #[3 6 9]\n",
        "print(arr[0:2,0:2]) #[[1 2]\n",
        "                    # [4 5]]\n",
        "```"
      ],
      "metadata": {
        "id": "MeHuSp4YHjpT"
      }
    },
    {
      "cell_type": "code",
      "source": [
        "arr_2d = np.array([[4, 5, 2],\n",
        "          [3, 7, 9],\n",
        "          [1, 4, 5],\n",
        "          [6, 6, 1]])\n",
        "\n",
        "# <START>\n",
        "# Create a 2D array sliced_arr_2d that is of the form [[5, 2], [7, 9], [4, 5]]\n",
        "sliced_arr_2d = arr_2d[:3, 1:]\n",
        "# <END>\n",
        "\n",
        "print(sliced_arr_2d)"
      ],
      "metadata": {
        "id": "mvrmhMiUHjMm",
        "colab": {
          "base_uri": "https://localhost:8080/"
        },
        "outputId": "b8c9d4b2-d5f4-499d-9ad5-b4fc50eb9d82"
      },
      "execution_count": 8,
      "outputs": [
        {
          "output_type": "stream",
          "name": "stdout",
          "text": [
            "[[5 2]\n",
            " [7 9]\n",
            " [4 5]]\n"
          ]
        }
      ]
    },
    {
      "cell_type": "markdown",
      "source": [
        "###**Broadcasting**\n",
        "\n",
        "This feature allows for flexibility in array operations. It lets us implement highly efficient algorithms with minimal use of memory."
      ],
      "metadata": {
        "id": "3wusjBpUZ4YM"
      }
    },
    {
      "cell_type": "code",
      "source": [
        "arr1 = np.array([1, 2, 3, 4])\n",
        "b = 1\n",
        "\n",
        "# <START>\n",
        "# Implement broadcasting to add b to each element of arr1\n",
        "\n",
        "# <END>\n",
        "\n",
        "print(arr1)\n",
        "\n",
        "arr2 = np.array([[1, 2, 3],\n",
        "                 [4, 5, 6]])\n",
        "arr3 = np.array([[4],\n",
        "                 [5]])\n",
        "\n",
        "# <START>\n",
        "# Multiply each element of the first row of arr2 by 4 and each element of the second row by 5, using only arr2 and arr3\n",
        "\n",
        "\n",
        "# <END>\n",
        "\n",
        "print(arr2)"
      ],
      "metadata": {
        "id": "JMYM8LIYbKdV",
        "colab": {
          "base_uri": "https://localhost:8080/"
        },
        "outputId": "fd14718f-6d54-44f0-8a7e-c01f97c9c32d"
      },
      "execution_count": null,
      "outputs": [
        {
          "output_type": "stream",
          "name": "stdout",
          "text": [
            "[2 3 4 5]\n",
            "[[ 4  8 12]\n",
            " [20 25 30]]\n"
          ]
        }
      ]
    },
    {
      "cell_type": "markdown",
      "source": [
        "### **Vectorization**\n",
        "\n",
        "From what we've covered so far, it might not be clear as to why we need to use vectorization. To understand this, let's compare the execution times of a non-vectorized program and a vectorized one.\n",
        "\n",
        "Your goal is to multiply each element of the 2D arrays by 3. Implement this using both non-vectorized and vectorized approaches."
      ],
      "metadata": {
        "id": "ZKz_znd7WfhP"
      }
    },
    {
      "cell_type": "code",
      "source": [
        "import time\n",
        "\n",
        "arr_nonvectorized = np.random.rand(1000, 1000)\n",
        "arr_vectorized = np.array(arr_nonvectorized) # making a deep copy of the array\n",
        "\n",
        "start_nv = time.time()\n",
        "\n",
        "# Non-vectorized approach\n",
        "# <START>\n",
        "\n",
        "\n",
        "\n",
        "# <END>\n",
        "\n",
        "end_nv = time.time()\n",
        "print(\"Time taken in non-vectorized approach:\", 1000*(end_nv-start_nv), \"ms\")\n",
        "\n",
        "# uncomment and execute the below line to convince yourself that both approaches are doing the same thing\n",
        "# print(arr_nonvectorized)\n",
        "\n",
        "start_v = time.time()\n",
        "\n",
        "# Vectorized approach\n",
        "# <START>\n",
        "\n",
        "# <END>\n",
        "\n",
        "end_v = time.time()\n",
        "print(\"Time taken in vectorized approach:\", 1000*(end_v-start_v), \"ms\")\n",
        "\n",
        "# uncomment and execute the below line to convince yourself that both approaches are doing the same thing\n",
        "# print(arr_vectorized)"
      ],
      "metadata": {
        "id": "RheVdAh4WyA1",
        "colab": {
          "base_uri": "https://localhost:8080/"
        },
        "outputId": "78448fbd-c269-485c-92b2-7fa15aa35e2e"
      },
      "execution_count": null,
      "outputs": [
        {
          "output_type": "stream",
          "name": "stdout",
          "text": [
            "Time taken in non-vectorized approach: 0.036716461181640625 ms\n",
            "Time taken in vectorized approach: 0.039577484130859375 ms\n"
          ]
        }
      ]
    },
    {
      "cell_type": "markdown",
      "source": [
        "Try playing around with the dimensions of the array. You'll find that there isn't much difference in the execution times when the dimensions are small. But in neural networks, we often deal with very large datasets and so vectorization is a very important tool."
      ],
      "metadata": {
        "id": "W2FkvxAsbyzc"
      }
    },
    {
      "cell_type": "code",
      "source": [
        "import numpy as np"
      ],
      "metadata": {
        "id": "ZOdJPbJPFBir"
      },
      "execution_count": null,
      "outputs": []
    },
    {
      "cell_type": "markdown",
      "source": [
        "### **Initializating Arrays**\n",
        "NumPy offers multiple methods to create and populate arrays\n",
        "- Create a $2\\times3$ array identical to\n",
        "$\\begin{bmatrix}\n",
        "1 & 2 & 4\\\\\n",
        "7 & 13 & 21\\\\\n",
        "\\end{bmatrix}$, and assign it to a variable `arr`.  "
      ],
      "metadata": {
        "id": "GUMi5Z-kFBiz"
      }
    },
    {
      "cell_type": "code",
      "source": [
        "# < START >\n",
        "arr = np.array([[1,2,4],[7,13,21]])\n",
        "# < END >\n",
        "\n",
        "print(arr)\n",
        "print(\"Shape:\", arr.shape)"
      ],
      "metadata": {
        "colab": {
          "base_uri": "https://localhost:8080/"
        },
        "outputId": "642043ce-d967-4876-aecc-e382aafffa24",
        "id": "o39fUAfIFBiz"
      },
      "execution_count": null,
      "outputs": [
        {
          "output_type": "stream",
          "name": "stdout",
          "text": [
            "[[ 1  2  4]\n",
            " [ 7 13 21]]\n",
            "Shape: (2, 3)\n"
          ]
        }
      ]
    },
    {
      "cell_type": "markdown",
      "source": [
        "You should be able to see that the `shape` property of an array lets you access its dimensions.  \n",
        "For us, this is a handy way to ensure that the dimensions of an array are what we expect, allowing us to easily debug programs."
      ],
      "metadata": {
        "id": "cZwWAQMjFBiz"
      }
    },
    {
      "cell_type": "markdown",
      "source": [
        "- Initialize a NumPy array `x` of dimensions $2\\times3$ with random values.  \n",
        "Do not use the values of the dimensions directly, instead use the variables provided as arguments.\n",
        "<details>\n",
        "  <summary>Hint</summary>\n",
        "  <a href=\"https://numpy.org/doc/stable/reference/random/generated/numpy.random.randn.html#numpy-random-randn\">np.random.randn()</a>\n",
        "</details>"
      ],
      "metadata": {
        "id": "dLZud5d4FBi0"
      }
    },
    {
      "cell_type": "code",
      "source": [
        "n_rows = 2\n",
        "n_columns = 3\n",
        "\n",
        "# <START>\n",
        "x = np.random.randn(n_rows,n_columns)\n",
        "# <END>\n",
        "\n",
        "print(x)"
      ],
      "metadata": {
        "colab": {
          "base_uri": "https://localhost:8080/"
        },
        "outputId": "7fc75c79-8471-432c-e15e-37324265c50f",
        "id": "w5GT2bZpFBi0"
      },
      "execution_count": null,
      "outputs": [
        {
          "output_type": "stream",
          "name": "stdout",
          "text": [
            "[[-0.87774383 -0.17129722  0.63368146]\n",
            " [-1.25496761  1.51582865 -1.6450501 ]]\n"
          ]
        }
      ]
    },
    {
      "cell_type": "markdown",
      "source": [
        "A few more basic methods to initialize arrays exist.\n",
        "Feel free to read up online to complete the code snippets."
      ],
      "metadata": {
        "id": "v5jGx0H1FBi0"
      }
    },
    {
      "cell_type": "code",
      "source": [
        "# < START >\n",
        "# Initialize an array ZERO_ARR of dimensions (4, 5, 2) whose every element is 0\n",
        "ZERO_ARR = np.zeros((4, 5, 2))\n",
        "# < END >\n",
        "\n",
        "print(ZERO_ARR)\n",
        "\n",
        "# < START >\n",
        "# Initialize an array ONE_ARR of dimensions (4, 5, 2) whose every element is 1\n",
        "ONE_ARR = np.ones((4, 5, 2))\n",
        "# < END >\n",
        "\n",
        "print(ONE_ARR)"
      ],
      "metadata": {
        "colab": {
          "base_uri": "https://localhost:8080/"
        },
        "outputId": "a3be2a25-281c-4337-857e-a2d40950ee8f",
        "id": "ABbrbLcbFBi0"
      },
      "execution_count": 9,
      "outputs": [
        {
          "output_type": "stream",
          "name": "stdout",
          "text": [
            "[[[0. 0.]\n",
            "  [0. 0.]\n",
            "  [0. 0.]\n",
            "  [0. 0.]\n",
            "  [0. 0.]]\n",
            "\n",
            " [[0. 0.]\n",
            "  [0. 0.]\n",
            "  [0. 0.]\n",
            "  [0. 0.]\n",
            "  [0. 0.]]\n",
            "\n",
            " [[0. 0.]\n",
            "  [0. 0.]\n",
            "  [0. 0.]\n",
            "  [0. 0.]\n",
            "  [0. 0.]]\n",
            "\n",
            " [[0. 0.]\n",
            "  [0. 0.]\n",
            "  [0. 0.]\n",
            "  [0. 0.]\n",
            "  [0. 0.]]]\n",
            "[[[1. 1.]\n",
            "  [1. 1.]\n",
            "  [1. 1.]\n",
            "  [1. 1.]\n",
            "  [1. 1.]]\n",
            "\n",
            " [[1. 1.]\n",
            "  [1. 1.]\n",
            "  [1. 1.]\n",
            "  [1. 1.]\n",
            "  [1. 1.]]\n",
            "\n",
            " [[1. 1.]\n",
            "  [1. 1.]\n",
            "  [1. 1.]\n",
            "  [1. 1.]\n",
            "  [1. 1.]]\n",
            "\n",
            " [[1. 1.]\n",
            "  [1. 1.]\n",
            "  [1. 1.]\n",
            "  [1. 1.]\n",
            "  [1. 1.]]]\n"
          ]
        }
      ]
    },
    {
      "cell_type": "markdown",
      "source": [
        "You can also transpose arrays (same as with matrices), but a more general and commonly used function is the `array.reshape()` function.\n",
        "\n",
        "$$\n",
        "\\begin{bmatrix}\n",
        "a & d\\\\\n",
        "b & e\\\\\n",
        "c & f\\\\\n",
        "\\end{bmatrix}\n",
        "\\xleftarrow{\\text{.T}}\n",
        "\\begin{bmatrix}\n",
        "a & b & c\\\\\n",
        "d & e & f\\\\\n",
        "\\end{bmatrix}\n",
        "\\xrightarrow{\\text{.reshape(3, 2)}}\n",
        "\\begin{bmatrix}\n",
        "a & b\\\\\n",
        "c & d\\\\\n",
        "e & f\\\\\n",
        "\\end{bmatrix}\n",
        "\\xrightarrow{\\text{.reshape(6,1)}}\n",
        "\\begin{bmatrix}\n",
        "a\\\\b\\\\c\\\\d\\\\e\\\\f\\\\\n",
        "\\end{bmatrix}\n",
        "$$\n",
        "`reshape` is commonly used to flatten data stored in multi-dimensional arrays (ex: a 2D array representing a B/W image)\n",
        "\n",
        "- Try it out yourself:"
      ],
      "metadata": {
        "id": "BBwDKk4tFBi1"
      }
    },
    {
      "cell_type": "code",
      "source": [
        "y = np.array([[1, 2, 3],\n",
        "              [4, 5, 6]])\n",
        "\n",
        "# < START >\n",
        "# Create a new array y_transpose that is the transpose of matrix y\n",
        "y_transpose = y.T\n",
        "# < END >\n",
        "\n",
        "\n",
        "\n",
        "# < START >\n",
        "# Create a new array y_flat that contains the same elements as y but has been flattened to a column array\n",
        "y_flat = y.flatten().reshape(-1, 1)\n",
        "# < END >\n",
        "\n",
        "print(y_flat)"
      ],
      "metadata": {
        "colab": {
          "base_uri": "https://localhost:8080/"
        },
        "outputId": "7cfdb40d-d81d-4741-9535-fbbf1a673072",
        "id": "VPDsoTz3FBi1"
      },
      "execution_count": 10,
      "outputs": [
        {
          "output_type": "stream",
          "name": "stdout",
          "text": [
            "[[1]\n",
            " [2]\n",
            " [3]\n",
            " [4]\n",
            " [5]\n",
            " [6]]\n"
          ]
        }
      ]
    },
    {
      "cell_type": "markdown",
      "source": [
        "- Create a `y` with dimensions $3\\times1$ (column matrix), with elements $4,7$ and $11$.  \n",
        "$$y = \\begin{bmatrix}\n",
        "4\\\\\n",
        "7\\\\\n",
        "11\n",
        "\\end{bmatrix}$$  "
      ],
      "metadata": {
        "id": "v5DA1VSOFBi1"
      }
    },
    {
      "cell_type": "code",
      "source": [
        "# <START>\n",
        "# Initialize the column matrix here\n",
        "y = np.array([[4],\n",
        "              [7],\n",
        "              [11]])\n",
        "\n",
        "\n",
        "\n",
        "# <END>\n",
        "\n",
        "assert y.shape == (3, 1)\n",
        "# The above line is an assert statement, which halts the program if the given condition evaluates to False.\n",
        "# Assert statements are frequently used in neural network programs to ensure our matrices are of the right dimensions.\n",
        "\n",
        "print(y)\n",
        "\n",
        "# <START>\n",
        "x = np.array([[2, 3],\n",
        "              [5, 6],\n",
        "              [8, 9]])\n",
        "# Multiply both the arrays here\n",
        "z = x*y\n",
        "# <END>\n",
        "\n",
        "assert z.shape == (2, 1)\n",
        "\n",
        "print(z)"
      ],
      "metadata": {
        "colab": {
          "base_uri": "https://localhost:8080/",
          "height": 263
        },
        "outputId": "493b5c39-c303-4c8b-9338-752b962eb35b",
        "id": "0rsXm3H9FBi1"
      },
      "execution_count": 18,
      "outputs": [
        {
          "output_type": "stream",
          "name": "stdout",
          "text": [
            "[[ 4]\n",
            " [ 7]\n",
            " [11]]\n"
          ]
        },
        {
          "output_type": "error",
          "ename": "AssertionError",
          "evalue": "",
          "traceback": [
            "\u001b[0;31m---------------------------------------------------------------------------\u001b[0m",
            "\u001b[0;31mAssertionError\u001b[0m                            Traceback (most recent call last)",
            "\u001b[0;32m<ipython-input-18-7e71c1daf5aa>\u001b[0m in \u001b[0;36m<cell line: 25>\u001b[0;34m()\u001b[0m\n\u001b[1;32m     23\u001b[0m \u001b[0;31m# <END>\u001b[0m\u001b[0;34m\u001b[0m\u001b[0;34m\u001b[0m\u001b[0m\n\u001b[1;32m     24\u001b[0m \u001b[0;34m\u001b[0m\u001b[0m\n\u001b[0;32m---> 25\u001b[0;31m \u001b[0;32massert\u001b[0m \u001b[0mz\u001b[0m\u001b[0;34m.\u001b[0m\u001b[0mshape\u001b[0m \u001b[0;34m==\u001b[0m \u001b[0;34m(\u001b[0m\u001b[0;36m2\u001b[0m\u001b[0;34m,\u001b[0m \u001b[0;36m1\u001b[0m\u001b[0;34m)\u001b[0m\u001b[0;34m\u001b[0m\u001b[0;34m\u001b[0m\u001b[0m\n\u001b[0m\u001b[1;32m     26\u001b[0m \u001b[0;34m\u001b[0m\u001b[0m\n\u001b[1;32m     27\u001b[0m \u001b[0mprint\u001b[0m\u001b[0;34m(\u001b[0m\u001b[0mz\u001b[0m\u001b[0;34m)\u001b[0m\u001b[0;34m\u001b[0m\u001b[0;34m\u001b[0m\u001b[0m\n",
            "\u001b[0;31mAssertionError\u001b[0m: "
          ]
        }
      ]
    },
    {
      "cell_type": "markdown",
      "source": [
        "### **Indexing & Slicing**\n",
        "Just like with normal arrays, you can access an element at the `(i,j)` position using `array[i][j]`.  \n",
        "However, NumPy allows you to do the same using `array[i, j]`, and this form is more efficient and simpler to use.\n",
        "<details>\n",
        "<summary><i>(Optional) Why is it more efficient?</i></summary>\n",
        "The former case is more inefficient as a new temporary array is created after the first index i, that is then indexed by j.\n",
        "</details>\n",
        "\n",
        "```python\n",
        "x = np.array([[1,3,5],[4,7,11],[5,10,20]])\n",
        "\n",
        "x[1][2] #11\n",
        "x[1,2]  #11 <-- Prefer this\n",
        "```"
      ],
      "metadata": {
        "id": "mkXVBCWLFBi1"
      }
    },
    {
      "cell_type": "markdown",
      "source": [
        "Slicing is another important feature of NumPy arrays. The syntax is the same as that of slicing in Python lists.\n",
        "  We pass the slice as\n",
        "\n",
        "```python\n",
        "  sliced_array = array[start:end:step]\n",
        "  # The second colon (:) is only needed\n",
        "  # if you want to use a step other than 1\n",
        "```\n",
        "By default, `start` is 0, `end` is the array length (in that dimension), and `step` is 1.\n",
        "Remember that `end` is not included in the slice.\n",
        "\n",
        "  Implement array slicing as instructed in the following examples\n",
        "\n"
      ],
      "metadata": {
        "id": "fZ8XwS1QFBi1"
      }
    },
    {
      "cell_type": "code",
      "source": [
        "x = np.array([4, 1, 5, 6, 11])\n",
        "\n",
        "# <START>\n",
        "# Create a new array y with the middle 3 elements of x\n",
        "y = x[1:4]\n",
        "# <END>\n",
        "\n",
        "print(y)\n",
        "\n",
        "z = np.array([1, 2, 3, 4, 5, 6, 7, 8, 9, 10])\n",
        "\n",
        "# <START>\n",
        "# Create a new array w with alternating elements of z\n",
        "w = z[::2]\n",
        "# <END>\n",
        "\n",
        "print(w)"
      ],
      "metadata": {
        "colab": {
          "base_uri": "https://localhost:8080/"
        },
        "outputId": "24245404-44cf-4750-bba2-09c3cac0b648",
        "id": "05h9Fpo7FBi2"
      },
      "execution_count": null,
      "outputs": [
        {
          "output_type": "stream",
          "name": "stdout",
          "text": [
            "[1 5 6]\n",
            "[1 3 5 7 9]\n"
          ]
        }
      ]
    },
    {
      "cell_type": "markdown",
      "source": [
        "A combination of indexing and slicing can be used to access rows, columns and sub-arrays of 2D arrays.\n",
        "\n",
        "```python\n",
        "arr = np.array([\n",
        "          [1, 2, 3],\n",
        "          [4, 5, 6],\n",
        "          [7, 8, 9]])\n",
        "\n",
        "print(arr[0])       #[1 2 3]\n",
        "print(arr[:,2])     #[3 6 9]\n",
        "print(arr[0:2,0:2]) #[[1 2]\n",
        "                    # [4 5]]\n",
        "```"
      ],
      "metadata": {
        "id": "3cwQ4lIlFBi2"
      }
    },
    {
      "cell_type": "code",
      "source": [
        "arr_2d = np.array([[4, 5, 2],\n",
        "          [3, 7, 9],\n",
        "          [1, 4, 5],\n",
        "          [6, 6, 1]])\n",
        "\n",
        "# <START>\n",
        "# Create a 2D array sliced_arr_2d that is of the form [[5, 2], [7, 9], [4, 5]]\n",
        "sliced_arr_2d = arr_2d[1:4, 1:3]\n",
        "\n",
        "# <END>\n",
        "\n",
        "print(sliced_arr_2d)"
      ],
      "metadata": {
        "colab": {
          "base_uri": "https://localhost:8080/"
        },
        "outputId": "55d92baf-ae88-47c9-c49a-df583847e7a8",
        "id": "vmKKkokxFBi3"
      },
      "execution_count": null,
      "outputs": [
        {
          "output_type": "stream",
          "name": "stdout",
          "text": [
            "[[5 2]\n",
            " [7 9]\n",
            " [4 5]]\n"
          ]
        }
      ]
    },
    {
      "cell_type": "markdown",
      "source": [
        "###**Broadcasting**\n",
        "\n",
        "This feature allows for flexibility in array operations. It lets us implement highly efficient algorithms with minimal use of memory."
      ],
      "metadata": {
        "id": "XFHwrqQ9FBi3"
      }
    },
    {
      "cell_type": "code",
      "source": [
        "arr1 = np.array([1, 2, 3, 4])\n",
        "b = 1\n",
        "\n",
        "# <START>\n",
        "# Implement broadcasting to add b to each element of arr1\n",
        "arr1 = arr1 + b\n",
        "# <END>\n",
        "\n",
        "print(arr1)\n",
        "\n",
        "arr2 = np.array([[1, 2, 3],\n",
        "                 [4, 5, 6]])\n",
        "arr3 = np.array([[4],\n",
        "                 [5]])\n",
        "\n",
        "# <START>\n",
        "# Multiply each element of the first row of arr2 by 4 and each element of the second row by 5, using only arr2 and arr3\n",
        "arr2 = arr2 * arr3\n",
        "\n",
        "# <END>\n",
        "\n",
        "print(arr2)"
      ],
      "metadata": {
        "colab": {
          "base_uri": "https://localhost:8080/"
        },
        "outputId": "fd14718f-6d54-44f0-8a7e-c01f97c9c32d",
        "id": "0bR7WGlQFBi3"
      },
      "execution_count": null,
      "outputs": [
        {
          "output_type": "stream",
          "name": "stdout",
          "text": [
            "[2 3 4 5]\n",
            "[[ 4  8 12]\n",
            " [20 25 30]]\n"
          ]
        }
      ]
    },
    {
      "cell_type": "markdown",
      "source": [
        "### **Vectorization**\n",
        "\n",
        "From what we've covered so far, it might not be clear as to why we need to use vectorization. To understand this, let's compare the execution times of a non-vectorized program and a vectorized one.\n",
        "\n",
        "Your goal is to multiply each element of the 2D arrays by 3. Implement this using both non-vectorized and vectorized approaches."
      ],
      "metadata": {
        "id": "WcjlI21SFBi3"
      }
    },
    {
      "cell_type": "code",
      "source": [
        "import time\n",
        "\n",
        "arr_nonvectorized = np.random.rand(1000, 1000)\n",
        "arr_vectorized = np.array(arr_nonvectorized) # making a deep copy of the array\n",
        "\n",
        "start_nv = time.time()\n",
        "\n",
        "# Non-vectorized approach\n",
        "# <START>\n",
        "\n",
        "tart_nv = time.time()\n",
        "\n",
        "for i in range(arr_nonvectorized.shape[0]):\n",
        "    for j in range(arr_nonvectorized.shape[1]):\n",
        "        arr_nonvectorized[i, j] *= 3\n",
        "\n",
        "\n",
        "\n",
        "# <END>\n",
        "\n",
        "end_nv = time.time()\n",
        "print(\"Time taken in non-vectorized approach:\", 1000*(end_nv-start_nv), \"ms\")\n",
        "\n",
        "# uncomment and execute the below line to convince yourself that both approaches are doing the same thing\n",
        "# print(arr_nonvectorized)\n",
        "\n",
        "start_v = time.time()\n",
        "\n",
        "# Vectorized approach\n",
        "# <START>\n",
        "start_v = time.time()\n",
        "\n",
        "arr_vectorized *= 3\n",
        "# <END>\n",
        "\n",
        "end_v = time.time()\n",
        "print(\"Time taken in vectorized approach:\", 1000*(end_v-start_v), \"ms\")\n",
        "\n",
        "# uncomment and execute the below line to convince yourself that both approaches are doing the same thing\n",
        "# print(arr_vectorized)"
      ],
      "metadata": {
        "colab": {
          "base_uri": "https://localhost:8080/"
        },
        "outputId": "78448fbd-c269-485c-92b2-7fa15aa35e2e",
        "id": "9sgHk6UQFBi3"
      },
      "execution_count": null,
      "outputs": [
        {
          "output_type": "stream",
          "name": "stdout",
          "text": [
            "Time taken in non-vectorized approach: 0.036716461181640625 ms\n",
            "Time taken in vectorized approach: 0.039577484130859375 ms\n"
          ]
        }
      ]
    },
    {
      "cell_type": "markdown",
      "source": [
        "Try playing around with the dimensions of the array. You'll find that there isn't much difference in the execution times when the dimensions are small. But in neural networks, we often deal with very large datasets and so vectorization is a very important tool."
      ],
      "metadata": {
        "id": "u_f7YoqVFBi4"
      }
    }
  ]
}